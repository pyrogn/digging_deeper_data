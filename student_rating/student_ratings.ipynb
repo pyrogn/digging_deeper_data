{
 "cells": [
  {
   "cell_type": "code",
   "execution_count": 1,
   "metadata": {},
   "outputs": [],
   "source": [
    "import pandas as pd\n",
    "import numpy as np"
   ]
  },
  {
   "cell_type": "code",
   "execution_count": 2,
   "metadata": {},
   "outputs": [],
   "source": [
    "import matplotlib.pyplot as plt\n",
    "import seaborn as sns"
   ]
  },
  {
   "cell_type": "code",
   "execution_count": 3,
   "metadata": {},
   "outputs": [],
   "source": [
    "url = 'https://www.hse.ru/ba/psy/ratings?from=414185556&course=2'"
   ]
  },
  {
   "cell_type": "code",
   "execution_count": 4,
   "metadata": {},
   "outputs": [],
   "source": [
    "table1 = pd.read_html(url)[0]"
   ]
  },
  {
   "cell_type": "code",
   "execution_count": 5,
   "metadata": {},
   "outputs": [
    {
     "data": {
      "text/plain": [
       "7.404347826086956"
      ]
     },
     "execution_count": 5,
     "metadata": {},
     "output_type": "execute_result"
    }
   ],
   "source": [
    "table1.GPA.mean()"
   ]
  },
  {
   "cell_type": "code",
   "execution_count": 6,
   "metadata": {},
   "outputs": [
    {
     "data": {
      "text/plain": [
       "7.581863354037267"
      ]
     },
     "execution_count": 6,
     "metadata": {},
     "output_type": "execute_result"
    }
   ],
   "source": [
    "table1.iloc[:, 2].mean()"
   ]
  },
  {
   "cell_type": "code",
   "execution_count": 7,
   "metadata": {},
   "outputs": [
    {
     "data": {
      "text/plain": [
       "array([[1.        , 0.99457396],\n",
       "       [0.99457396, 1.        ]])"
      ]
     },
     "execution_count": 7,
     "metadata": {},
     "output_type": "execute_result"
    }
   ],
   "source": [
    "np.corrcoef(table1.GPA, table1.iloc[:, 2])"
   ]
  },
  {
   "cell_type": "code",
   "execution_count": null,
   "metadata": {},
   "outputs": [],
   "source": []
  },
  {
   "cell_type": "code",
   "execution_count": 8,
   "metadata": {},
   "outputs": [],
   "source": [
    "url2 = 'https://www.hse.ru/ba/psy/ratings?from=414185556&course=3'\n",
    "table2 = pd.read_html(url2)[0]"
   ]
  },
  {
   "cell_type": "code",
   "execution_count": 9,
   "metadata": {},
   "outputs": [
    {
     "data": {
      "text/plain": [
       "7.506230769230768"
      ]
     },
     "execution_count": 9,
     "metadata": {},
     "output_type": "execute_result"
    }
   ],
   "source": [
    "table2.GPA.mean()"
   ]
  },
  {
   "cell_type": "code",
   "execution_count": 10,
   "metadata": {},
   "outputs": [
    {
     "data": {
      "text/plain": [
       "7.699692307692308"
      ]
     },
     "execution_count": 10,
     "metadata": {},
     "output_type": "execute_result"
    }
   ],
   "source": [
    "table2.iloc[:, 2].mean()"
   ]
  },
  {
   "cell_type": "code",
   "execution_count": 11,
   "metadata": {},
   "outputs": [
    {
     "data": {
      "text/plain": [
       "array([[1.        , 0.99175502],\n",
       "       [0.99175502, 1.        ]])"
      ]
     },
     "execution_count": 11,
     "metadata": {},
     "output_type": "execute_result"
    }
   ],
   "source": [
    "np.corrcoef(table2.GPA, table2.iloc[:, 2])"
   ]
  },
  {
   "cell_type": "code",
   "execution_count": 12,
   "metadata": {},
   "outputs": [],
   "source": [
    "url3 = 'https://www.hse.ru/ba/psy/ratings?from=414185556&course=4'\n",
    "table3 = pd.read_html(url3)[0]"
   ]
  },
  {
   "cell_type": "code",
   "execution_count": 13,
   "metadata": {},
   "outputs": [
    {
     "data": {
      "text/plain": [
       "7.446952380952381"
      ]
     },
     "execution_count": 13,
     "metadata": {},
     "output_type": "execute_result"
    }
   ],
   "source": [
    "table3.GPA.mean()"
   ]
  },
  {
   "cell_type": "code",
   "execution_count": 14,
   "metadata": {},
   "outputs": [
    {
     "data": {
      "text/plain": [
       "7.646571428571427"
      ]
     },
     "execution_count": 14,
     "metadata": {},
     "output_type": "execute_result"
    }
   ],
   "source": [
    "table3.iloc[:, 2].mean()"
   ]
  },
  {
   "cell_type": "code",
   "execution_count": 15,
   "metadata": {},
   "outputs": [
    {
     "data": {
      "text/plain": [
       "array([[1.        , 0.98692183],\n",
       "       [0.98692183, 1.        ]])"
      ]
     },
     "execution_count": 15,
     "metadata": {},
     "output_type": "execute_result"
    }
   ],
   "source": [
    "np.corrcoef(table3.GPA, table3.iloc[:, 2])"
   ]
  },
  {
   "cell_type": "code",
   "execution_count": null,
   "metadata": {},
   "outputs": [],
   "source": []
  },
  {
   "cell_type": "code",
   "execution_count": 16,
   "metadata": {},
   "outputs": [
    {
     "data": {
      "text/plain": [
       "<AxesSubplot:ylabel='Density'>"
      ]
     },
     "execution_count": 16,
     "metadata": {},
     "output_type": "execute_result"
    },
    {
     "data": {
      "image/png": "[encoded data removed]",
      "text/plain": [
       "<Figure size 432x288 with 1 Axes>"
      ]
     },
     "metadata": {
      "needs_background": "light"
     },
     "output_type": "display_data"
    }
   ],
   "source": [
    "table2.GPA.plot(kind='density')\n",
    "table1.GPA.plot(kind='density')\n",
    "table3.GPA.plot(kind='density')"
   ]
  },
  {
   "cell_type": "code",
   "execution_count": null,
   "metadata": {},
   "outputs": [],
   "source": []
  },
  {
   "cell_type": "code",
   "execution_count": 17,
   "metadata": {},
   "outputs": [
    {
     "name": "stdout",
     "output_type": "stream",
     "text": [
      "<class 'pandas.core.frame.DataFrame'>\n",
      "RangeIndex: 130 entries, 0 to 129\n",
      "Data columns (total 6 columns):\n",
      " #   Column              Non-Null Count  Dtype  \n",
      "---  ------              --------------  -----  \n",
      " 0   Студент             130 non-null    object \n",
      " 1   Позиция в рейтинге  130 non-null    object \n",
      " 2   Средний балл        130 non-null    float64\n",
      " 3   Минимальный балл    130 non-null    int64  \n",
      " 4   Перцентиль          130 non-null    object \n",
      " 5   GPA                 130 non-null    float64\n",
      "dtypes: float64(2), int64(1), object(3)\n",
      "memory usage: 6.2+ KB\n"
     ]
    }
   ],
   "source": [
    "table2.info()"
   ]
  },
  {
   "cell_type": "code",
   "execution_count": null,
   "metadata": {},
   "outputs": [],
   "source": []
  },
  {
   "cell_type": "code",
   "execution_count": null,
   "metadata": {},
   "outputs": [],
   "source": []
  },
  {
   "cell_type": "code",
   "execution_count": 18,
   "metadata": {},
   "outputs": [],
   "source": [
    "df12 = pd.read_html('https://www.hse.ru/ba/psy/ratings?from=348116371&course=1')[0]"
   ]
  },
  {
   "cell_type": "code",
   "execution_count": 19,
   "metadata": {},
   "outputs": [],
   "source": [
    "df34 = pd.read_html('https://www.hse.ru/ba/psy/ratings?from=381346749&course=1')[0]"
   ]
  },
  {
   "cell_type": "code",
   "execution_count": 20,
   "metadata": {},
   "outputs": [
    {
     "name": "stdout",
     "output_type": "stream",
     "text": [
      "(185, 6) (171, 6)\n"
     ]
    }
   ],
   "source": [
    "print(df12.shape, df34.shape)"
   ]
  },
  {
   "cell_type": "code",
   "execution_count": null,
   "metadata": {},
   "outputs": [],
   "source": []
  },
  {
   "cell_type": "code",
   "execution_count": 21,
   "metadata": {},
   "outputs": [],
   "source": [
    "dfme = pd.merge(df12, df34, on='Студент')"
   ]
  },
  {
   "cell_type": "code",
   "execution_count": 22,
   "metadata": {},
   "outputs": [
    {
     "data": {
      "text/html": [
       "<div>\n",
       "<style scoped>\n",
       "    .dataframe tbody tr th:only-of-type {\n",
       "        vertical-align: middle;\n",
       "    }\n",
       "\n",
       "    .dataframe tbody tr th {\n",
       "        vertical-align: top;\n",
       "    }\n",
       "\n",
       "    .dataframe thead th {\n",
       "        text-align: right;\n",
       "    }\n",
       "</style>\n",
       "<table border=\"1\" class=\"dataframe\">\n",
       "  <thead>\n",
       "    <tr style=\"text-align: right;\">\n",
       "      <th></th>\n",
       "      <th>Студент</th>\n",
       "      <th>Позиция в рейтинге_x</th>\n",
       "      <th>Средний балл_x</th>\n",
       "      <th>Минимальный балл_x</th>\n",
       "      <th>Перцентиль_x</th>\n",
       "      <th>GPA_x</th>\n",
       "      <th>Позиция в рейтинге_y</th>\n",
       "      <th>Средний балл_y</th>\n",
       "      <th>Минимальный балл_y</th>\n",
       "      <th>Перцентиль_y</th>\n",
       "      <th>GPA_y</th>\n",
       "    </tr>\n",
       "  </thead>\n",
       "  <tbody>\n",
       "    <tr>\n",
       "      <th>0</th>\n",
       "      <td>Карпухова Ольга Павловна</td>\n",
       "      <td>1</td>\n",
       "      <td>9.67</td>\n",
       "      <td>8</td>\n",
       "      <td>0%</td>\n",
       "      <td>9.65</td>\n",
       "      <td>19 - 21</td>\n",
       "      <td>9.1</td>\n",
       "      <td>8</td>\n",
       "      <td>10.53%</td>\n",
       "      <td>9.05</td>\n",
       "    </tr>\n",
       "    <tr>\n",
       "      <th>1</th>\n",
       "      <td>Субхангулов Александр Маратович</td>\n",
       "      <td>2</td>\n",
       "      <td>9.50</td>\n",
       "      <td>8</td>\n",
       "      <td>0.54%</td>\n",
       "      <td>9.40</td>\n",
       "      <td>3</td>\n",
       "      <td>9.4</td>\n",
       "      <td>8</td>\n",
       "      <td>1.17%</td>\n",
       "      <td>9.54</td>\n",
       "    </tr>\n",
       "    <tr>\n",
       "      <th>2</th>\n",
       "      <td>Протопова Мария Артуровна</td>\n",
       "      <td>3</td>\n",
       "      <td>9.33</td>\n",
       "      <td>9</td>\n",
       "      <td>1.08%</td>\n",
       "      <td>9.35</td>\n",
       "      <td>4</td>\n",
       "      <td>9.3</td>\n",
       "      <td>7</td>\n",
       "      <td>1.75%</td>\n",
       "      <td>9.32</td>\n",
       "    </tr>\n",
       "    <tr>\n",
       "      <th>3</th>\n",
       "      <td>Боронина Анастасия Александровна</td>\n",
       "      <td>4</td>\n",
       "      <td>9.33</td>\n",
       "      <td>8</td>\n",
       "      <td>1.62%</td>\n",
       "      <td>9.25</td>\n",
       "      <td>13 - 15</td>\n",
       "      <td>9.2</td>\n",
       "      <td>7</td>\n",
       "      <td>7.02%</td>\n",
       "      <td>9.12</td>\n",
       "    </tr>\n",
       "    <tr>\n",
       "      <th>4</th>\n",
       "      <td>Никулина Анастасия Александровна</td>\n",
       "      <td>5 - 6</td>\n",
       "      <td>9.17</td>\n",
       "      <td>7</td>\n",
       "      <td>2.16%</td>\n",
       "      <td>9.15</td>\n",
       "      <td>6</td>\n",
       "      <td>9.3</td>\n",
       "      <td>7</td>\n",
       "      <td>2.92%</td>\n",
       "      <td>9.27</td>\n",
       "    </tr>\n",
       "  </tbody>\n",
       "</table>\n",
       "</div>"
      ],
      "text/plain": [
       "                            Студент Позиция в рейтинге_x  Средний балл_x  \\\n",
       "0          Карпухова Ольга Павловна                    1            9.67   \n",
       "1   Субхангулов Александр Маратович                    2            9.50   \n",
       "2         Протопова Мария Артуровна                    3            9.33   \n",
       "3  Боронина Анастасия Александровна                    4            9.33   \n",
       "4  Никулина Анастасия Александровна                5 - 6            9.17   \n",
       "\n",
       "   Минимальный балл_x Перцентиль_x  GPA_x Позиция в рейтинге_y  \\\n",
       "0                   8           0%   9.65              19 - 21   \n",
       "1                   8        0.54%   9.40                    3   \n",
       "2                   9        1.08%   9.35                    4   \n",
       "3                   8        1.62%   9.25              13 - 15   \n",
       "4                   7        2.16%   9.15                    6   \n",
       "\n",
       "   Средний балл_y  Минимальный балл_y Перцентиль_y  GPA_y  \n",
       "0             9.1                   8       10.53%   9.05  \n",
       "1             9.4                   8        1.17%   9.54  \n",
       "2             9.3                   7        1.75%   9.32  \n",
       "3             9.2                   7        7.02%   9.12  \n",
       "4             9.3                   7        2.92%   9.27  "
      ]
     },
     "execution_count": 22,
     "metadata": {},
     "output_type": "execute_result"
    }
   ],
   "source": [
    "dfme.head()"
   ]
  },
  {
   "cell_type": "code",
   "execution_count": 23,
   "metadata": {},
   "outputs": [],
   "source": [
    "dfme['ratio'] = dfme.GPA_y / dfme.GPA_x\n",
    "dfme['diff'] = dfme.GPA_y - dfme.GPA_x"
   ]
  },
  {
   "cell_type": "code",
   "execution_count": null,
   "metadata": {},
   "outputs": [],
   "source": []
  },
  {
   "cell_type": "code",
   "execution_count": 24,
   "metadata": {},
   "outputs": [
    {
     "data": {
      "text/html": [
       "<div>\n",
       "<style scoped>\n",
       "    .dataframe tbody tr th:only-of-type {\n",
       "        vertical-align: middle;\n",
       "    }\n",
       "\n",
       "    .dataframe tbody tr th {\n",
       "        vertical-align: top;\n",
       "    }\n",
       "\n",
       "    .dataframe thead th {\n",
       "        text-align: right;\n",
       "    }\n",
       "</style>\n",
       "<table border=\"1\" class=\"dataframe\">\n",
       "  <thead>\n",
       "    <tr style=\"text-align: right;\">\n",
       "      <th></th>\n",
       "      <th>Студент</th>\n",
       "      <th>GPA_x</th>\n",
       "      <th>GPA_y</th>\n",
       "      <th>ratio</th>\n",
       "      <th>diff</th>\n",
       "    </tr>\n",
       "  </thead>\n",
       "  <tbody>\n",
       "    <tr>\n",
       "      <th>158</th>\n",
       "      <td>Гутовский Илья Игоревич</td>\n",
       "      <td>5.25</td>\n",
       "      <td>7.78</td>\n",
       "      <td>1.481905</td>\n",
       "      <td>2.53</td>\n",
       "    </tr>\n",
       "    <tr>\n",
       "      <th>161</th>\n",
       "      <td>Белоусова Алена Игоревна</td>\n",
       "      <td>5.20</td>\n",
       "      <td>7.46</td>\n",
       "      <td>1.434615</td>\n",
       "      <td>2.26</td>\n",
       "    </tr>\n",
       "    <tr>\n",
       "      <th>153</th>\n",
       "      <td>Грунина Елена Андреевна</td>\n",
       "      <td>5.40</td>\n",
       "      <td>7.49</td>\n",
       "      <td>1.387037</td>\n",
       "      <td>2.09</td>\n",
       "    </tr>\n",
       "    <tr>\n",
       "      <th>139</th>\n",
       "      <td>Иванова Алина Павловна</td>\n",
       "      <td>6.00</td>\n",
       "      <td>8.20</td>\n",
       "      <td>1.366667</td>\n",
       "      <td>2.20</td>\n",
       "    </tr>\n",
       "    <tr>\n",
       "      <th>132</th>\n",
       "      <td>Бахтыгулова Камила</td>\n",
       "      <td>6.15</td>\n",
       "      <td>8.02</td>\n",
       "      <td>1.304065</td>\n",
       "      <td>1.87</td>\n",
       "    </tr>\n",
       "    <tr>\n",
       "      <th>116</th>\n",
       "      <td>Суркова Глафира Павловна</td>\n",
       "      <td>6.60</td>\n",
       "      <td>8.56</td>\n",
       "      <td>1.296970</td>\n",
       "      <td>1.96</td>\n",
       "    </tr>\n",
       "    <tr>\n",
       "      <th>121</th>\n",
       "      <td>Логунова Мария Сергеевна</td>\n",
       "      <td>6.50</td>\n",
       "      <td>8.27</td>\n",
       "      <td>1.272308</td>\n",
       "      <td>1.77</td>\n",
       "    </tr>\n",
       "    <tr>\n",
       "      <th>165</th>\n",
       "      <td>Жданова Юлия Артуровна</td>\n",
       "      <td>5.10</td>\n",
       "      <td>6.46</td>\n",
       "      <td>1.266667</td>\n",
       "      <td>1.36</td>\n",
       "    </tr>\n",
       "    <tr>\n",
       "      <th>152</th>\n",
       "      <td>Молчанова Вероника Александровна</td>\n",
       "      <td>5.45</td>\n",
       "      <td>6.88</td>\n",
       "      <td>1.262385</td>\n",
       "      <td>1.43</td>\n",
       "    </tr>\n",
       "    <tr>\n",
       "      <th>115</th>\n",
       "      <td>Рублева Екатерина Вячеславовна</td>\n",
       "      <td>6.60</td>\n",
       "      <td>8.24</td>\n",
       "      <td>1.248485</td>\n",
       "      <td>1.64</td>\n",
       "    </tr>\n",
       "  </tbody>\n",
       "</table>\n",
       "</div>"
      ],
      "text/plain": [
       "                              Студент  GPA_x  GPA_y     ratio  diff\n",
       "158           Гутовский Илья Игоревич   5.25   7.78  1.481905  2.53\n",
       "161          Белоусова Алена Игоревна   5.20   7.46  1.434615  2.26\n",
       "153           Грунина Елена Андреевна   5.40   7.49  1.387037  2.09\n",
       "139            Иванова Алина Павловна   6.00   8.20  1.366667  2.20\n",
       "132                Бахтыгулова Камила   6.15   8.02  1.304065  1.87\n",
       "116          Суркова Глафира Павловна   6.60   8.56  1.296970  1.96\n",
       "121          Логунова Мария Сергеевна   6.50   8.27  1.272308  1.77\n",
       "165            Жданова Юлия Артуровна   5.10   6.46  1.266667  1.36\n",
       "152  Молчанова Вероника Александровна   5.45   6.88  1.262385  1.43\n",
       "115    Рублева Екатерина Вячеславовна   6.60   8.24  1.248485  1.64"
      ]
     },
     "execution_count": 24,
     "metadata": {},
     "output_type": "execute_result"
    }
   ],
   "source": [
    "dfme[['Студент', 'GPA_x', 'GPA_y', 'ratio', 'diff']].sort_values('ratio', ascending=False).head(10)"
   ]
  },
  {
   "cell_type": "code",
   "execution_count": 25,
   "metadata": {},
   "outputs": [
    {
     "data": {
      "text/html": [
       "<div>\n",
       "<style scoped>\n",
       "    .dataframe tbody tr th:only-of-type {\n",
       "        vertical-align: middle;\n",
       "    }\n",
       "\n",
       "    .dataframe tbody tr th {\n",
       "        vertical-align: top;\n",
       "    }\n",
       "\n",
       "    .dataframe thead th {\n",
       "        text-align: right;\n",
       "    }\n",
       "</style>\n",
       "<table border=\"1\" class=\"dataframe\">\n",
       "  <thead>\n",
       "    <tr style=\"text-align: right;\">\n",
       "      <th></th>\n",
       "      <th>Студент</th>\n",
       "      <th>GPA_x</th>\n",
       "      <th>GPA_y</th>\n",
       "      <th>ratio</th>\n",
       "      <th>diff</th>\n",
       "    </tr>\n",
       "  </thead>\n",
       "  <tbody>\n",
       "    <tr>\n",
       "      <th>158</th>\n",
       "      <td>Гутовский Илья Игоревич</td>\n",
       "      <td>5.25</td>\n",
       "      <td>7.78</td>\n",
       "      <td>1.481905</td>\n",
       "      <td>2.53</td>\n",
       "    </tr>\n",
       "    <tr>\n",
       "      <th>161</th>\n",
       "      <td>Белоусова Алена Игоревна</td>\n",
       "      <td>5.20</td>\n",
       "      <td>7.46</td>\n",
       "      <td>1.434615</td>\n",
       "      <td>2.26</td>\n",
       "    </tr>\n",
       "    <tr>\n",
       "      <th>139</th>\n",
       "      <td>Иванова Алина Павловна</td>\n",
       "      <td>6.00</td>\n",
       "      <td>8.20</td>\n",
       "      <td>1.366667</td>\n",
       "      <td>2.20</td>\n",
       "    </tr>\n",
       "    <tr>\n",
       "      <th>153</th>\n",
       "      <td>Грунина Елена Андреевна</td>\n",
       "      <td>5.40</td>\n",
       "      <td>7.49</td>\n",
       "      <td>1.387037</td>\n",
       "      <td>2.09</td>\n",
       "    </tr>\n",
       "    <tr>\n",
       "      <th>116</th>\n",
       "      <td>Суркова Глафира Павловна</td>\n",
       "      <td>6.60</td>\n",
       "      <td>8.56</td>\n",
       "      <td>1.296970</td>\n",
       "      <td>1.96</td>\n",
       "    </tr>\n",
       "    <tr>\n",
       "      <th>132</th>\n",
       "      <td>Бахтыгулова Камила</td>\n",
       "      <td>6.15</td>\n",
       "      <td>8.02</td>\n",
       "      <td>1.304065</td>\n",
       "      <td>1.87</td>\n",
       "    </tr>\n",
       "    <tr>\n",
       "      <th>121</th>\n",
       "      <td>Логунова Мария Сергеевна</td>\n",
       "      <td>6.50</td>\n",
       "      <td>8.27</td>\n",
       "      <td>1.272308</td>\n",
       "      <td>1.77</td>\n",
       "    </tr>\n",
       "    <tr>\n",
       "      <th>87</th>\n",
       "      <td>Волкова Анастасия Игоревна</td>\n",
       "      <td>7.30</td>\n",
       "      <td>8.98</td>\n",
       "      <td>1.230137</td>\n",
       "      <td>1.68</td>\n",
       "    </tr>\n",
       "    <tr>\n",
       "      <th>115</th>\n",
       "      <td>Рублева Екатерина Вячеславовна</td>\n",
       "      <td>6.60</td>\n",
       "      <td>8.24</td>\n",
       "      <td>1.248485</td>\n",
       "      <td>1.64</td>\n",
       "    </tr>\n",
       "    <tr>\n",
       "      <th>106</th>\n",
       "      <td>Степанова Софья Александровна</td>\n",
       "      <td>6.85</td>\n",
       "      <td>8.41</td>\n",
       "      <td>1.227737</td>\n",
       "      <td>1.56</td>\n",
       "    </tr>\n",
       "  </tbody>\n",
       "</table>\n",
       "</div>"
      ],
      "text/plain": [
       "                            Студент  GPA_x  GPA_y     ratio  diff\n",
       "158         Гутовский Илья Игоревич   5.25   7.78  1.481905  2.53\n",
       "161        Белоусова Алена Игоревна   5.20   7.46  1.434615  2.26\n",
       "139          Иванова Алина Павловна   6.00   8.20  1.366667  2.20\n",
       "153         Грунина Елена Андреевна   5.40   7.49  1.387037  2.09\n",
       "116        Суркова Глафира Павловна   6.60   8.56  1.296970  1.96\n",
       "132              Бахтыгулова Камила   6.15   8.02  1.304065  1.87\n",
       "121        Логунова Мария Сергеевна   6.50   8.27  1.272308  1.77\n",
       "87       Волкова Анастасия Игоревна   7.30   8.98  1.230137  1.68\n",
       "115  Рублева Екатерина Вячеславовна   6.60   8.24  1.248485  1.64\n",
       "106   Степанова Софья Александровна   6.85   8.41  1.227737  1.56"
      ]
     },
     "execution_count": 25,
     "metadata": {},
     "output_type": "execute_result"
    }
   ],
   "source": [
    "dfme[['Студент', 'GPA_x', 'GPA_y', 'ratio', 'diff']].sort_values('diff', ascending=False).head(10)"
   ]
  },
  {
   "cell_type": "code",
   "execution_count": 26,
   "metadata": {},
   "outputs": [],
   "source": [
    "req_cols = ['Студент', 'GPA_x', 'GPA_y', 'ratio', 'diff']"
   ]
  },
  {
   "cell_type": "code",
   "execution_count": 27,
   "metadata": {},
   "outputs": [
    {
     "data": {
      "text/html": [
       "<div>\n",
       "<style scoped>\n",
       "    .dataframe tbody tr th:only-of-type {\n",
       "        vertical-align: middle;\n",
       "    }\n",
       "\n",
       "    .dataframe tbody tr th {\n",
       "        vertical-align: top;\n",
       "    }\n",
       "\n",
       "    .dataframe thead th {\n",
       "        text-align: right;\n",
       "    }\n",
       "</style>\n",
       "<table border=\"1\" class=\"dataframe\">\n",
       "  <thead>\n",
       "    <tr style=\"text-align: right;\">\n",
       "      <th></th>\n",
       "      <th>Студент</th>\n",
       "      <th>GPA_x</th>\n",
       "      <th>GPA_y</th>\n",
       "      <th>ratio</th>\n",
       "      <th>diff</th>\n",
       "    </tr>\n",
       "  </thead>\n",
       "  <tbody>\n",
       "    <tr>\n",
       "      <th>145</th>\n",
       "      <td>Бодюл Дмитрий Валентинович</td>\n",
       "      <td>5.75</td>\n",
       "      <td>4.46</td>\n",
       "      <td>0.775652</td>\n",
       "      <td>-1.29</td>\n",
       "    </tr>\n",
       "    <tr>\n",
       "      <th>120</th>\n",
       "      <td>Козьминых Анна Ильинична</td>\n",
       "      <td>6.50</td>\n",
       "      <td>4.88</td>\n",
       "      <td>0.750769</td>\n",
       "      <td>-1.62</td>\n",
       "    </tr>\n",
       "    <tr>\n",
       "      <th>128</th>\n",
       "      <td>Костылева Анна Ивановна</td>\n",
       "      <td>6.30</td>\n",
       "      <td>4.54</td>\n",
       "      <td>0.720635</td>\n",
       "      <td>-1.76</td>\n",
       "    </tr>\n",
       "    <tr>\n",
       "      <th>147</th>\n",
       "      <td>Амгалан Уянга</td>\n",
       "      <td>5.60</td>\n",
       "      <td>3.90</td>\n",
       "      <td>0.696429</td>\n",
       "      <td>-1.70</td>\n",
       "    </tr>\n",
       "    <tr>\n",
       "      <th>100</th>\n",
       "      <td>Москаленко Максим Алексеевич</td>\n",
       "      <td>7.00</td>\n",
       "      <td>4.80</td>\n",
       "      <td>0.685714</td>\n",
       "      <td>-2.20</td>\n",
       "    </tr>\n",
       "    <tr>\n",
       "      <th>127</th>\n",
       "      <td>Жиганшин Камиль Русланович</td>\n",
       "      <td>6.35</td>\n",
       "      <td>4.17</td>\n",
       "      <td>0.656693</td>\n",
       "      <td>-2.18</td>\n",
       "    </tr>\n",
       "    <tr>\n",
       "      <th>112</th>\n",
       "      <td>Пешакова Екатерина Дмитриевна</td>\n",
       "      <td>6.70</td>\n",
       "      <td>4.18</td>\n",
       "      <td>0.623881</td>\n",
       "      <td>-2.52</td>\n",
       "    </tr>\n",
       "    <tr>\n",
       "      <th>95</th>\n",
       "      <td>Вахер Екатерина</td>\n",
       "      <td>7.15</td>\n",
       "      <td>4.10</td>\n",
       "      <td>0.573427</td>\n",
       "      <td>-3.05</td>\n",
       "    </tr>\n",
       "    <tr>\n",
       "      <th>167</th>\n",
       "      <td>Личагина Полина Антоновна</td>\n",
       "      <td>4.85</td>\n",
       "      <td>2.56</td>\n",
       "      <td>0.527835</td>\n",
       "      <td>-2.29</td>\n",
       "    </tr>\n",
       "    <tr>\n",
       "      <th>114</th>\n",
       "      <td>Брусиловская Дарья Данииловна</td>\n",
       "      <td>6.60</td>\n",
       "      <td>3.28</td>\n",
       "      <td>0.496970</td>\n",
       "      <td>-3.32</td>\n",
       "    </tr>\n",
       "    <tr>\n",
       "      <th>76</th>\n",
       "      <td>Васильев Константин Никитич</td>\n",
       "      <td>7.47</td>\n",
       "      <td>2.97</td>\n",
       "      <td>0.397590</td>\n",
       "      <td>-4.50</td>\n",
       "    </tr>\n",
       "    <tr>\n",
       "      <th>21</th>\n",
       "      <td>Кралина Яна Владленовна</td>\n",
       "      <td>8.67</td>\n",
       "      <td>3.41</td>\n",
       "      <td>0.393310</td>\n",
       "      <td>-5.26</td>\n",
       "    </tr>\n",
       "    <tr>\n",
       "      <th>151</th>\n",
       "      <td>Карпова Карина</td>\n",
       "      <td>5.45</td>\n",
       "      <td>2.10</td>\n",
       "      <td>0.385321</td>\n",
       "      <td>-3.35</td>\n",
       "    </tr>\n",
       "    <tr>\n",
       "      <th>168</th>\n",
       "      <td>Безац Дарья Леонидовна</td>\n",
       "      <td>4.35</td>\n",
       "      <td>0.95</td>\n",
       "      <td>0.218391</td>\n",
       "      <td>-3.40</td>\n",
       "    </tr>\n",
       "    <tr>\n",
       "      <th>169</th>\n",
       "      <td>Сайнбаяр Эмужин</td>\n",
       "      <td>3.40</td>\n",
       "      <td>0.68</td>\n",
       "      <td>0.200000</td>\n",
       "      <td>-2.72</td>\n",
       "    </tr>\n",
       "  </tbody>\n",
       "</table>\n",
       "</div>"
      ],
      "text/plain": [
       "                           Студент  GPA_x  GPA_y     ratio  diff\n",
       "145     Бодюл Дмитрий Валентинович   5.75   4.46  0.775652 -1.29\n",
       "120       Козьминых Анна Ильинична   6.50   4.88  0.750769 -1.62\n",
       "128        Костылева Анна Ивановна   6.30   4.54  0.720635 -1.76\n",
       "147                  Амгалан Уянга   5.60   3.90  0.696429 -1.70\n",
       "100   Москаленко Максим Алексеевич   7.00   4.80  0.685714 -2.20\n",
       "127     Жиганшин Камиль Русланович   6.35   4.17  0.656693 -2.18\n",
       "112  Пешакова Екатерина Дмитриевна   6.70   4.18  0.623881 -2.52\n",
       "95                 Вахер Екатерина   7.15   4.10  0.573427 -3.05\n",
       "167      Личагина Полина Антоновна   4.85   2.56  0.527835 -2.29\n",
       "114  Брусиловская Дарья Данииловна   6.60   3.28  0.496970 -3.32\n",
       "76     Васильев Константин Никитич   7.47   2.97  0.397590 -4.50\n",
       "21         Кралина Яна Владленовна   8.67   3.41  0.393310 -5.26\n",
       "151                 Карпова Карина   5.45   2.10  0.385321 -3.35\n",
       "168         Безац Дарья Леонидовна   4.35   0.95  0.218391 -3.40\n",
       "169                Сайнбаяр Эмужин   3.40   0.68  0.200000 -2.72"
      ]
     },
     "execution_count": 27,
     "metadata": {},
     "output_type": "execute_result"
    }
   ],
   "source": [
    "dfme[['Студент', 'GPA_x', 'GPA_y', 'ratio', 'diff']].sort_values('ratio', ascending=False).tail(15)"
   ]
  },
  {
   "cell_type": "code",
   "execution_count": 28,
   "metadata": {},
   "outputs": [
    {
     "data": {
      "text/html": [
       "<div>\n",
       "<style scoped>\n",
       "    .dataframe tbody tr th:only-of-type {\n",
       "        vertical-align: middle;\n",
       "    }\n",
       "\n",
       "    .dataframe tbody tr th {\n",
       "        vertical-align: top;\n",
       "    }\n",
       "\n",
       "    .dataframe thead th {\n",
       "        text-align: right;\n",
       "    }\n",
       "</style>\n",
       "<table border=\"1\" class=\"dataframe\">\n",
       "  <thead>\n",
       "    <tr style=\"text-align: right;\">\n",
       "      <th></th>\n",
       "      <th>Студент</th>\n",
       "      <th>GPA_x</th>\n",
       "      <th>GPA_y</th>\n",
       "      <th>ratio</th>\n",
       "      <th>diff</th>\n",
       "    </tr>\n",
       "  </thead>\n",
       "  <tbody>\n",
       "    <tr>\n",
       "      <th>9</th>\n",
       "      <td>Ермаков Павел Алексеевич</td>\n",
       "      <td>8.95</td>\n",
       "      <td>8.46</td>\n",
       "      <td>0.945251</td>\n",
       "      <td>-0.49</td>\n",
       "    </tr>\n",
       "    <tr>\n",
       "      <th>49</th>\n",
       "      <td>Ширяева Дарья Сергеевна</td>\n",
       "      <td>8.05</td>\n",
       "      <td>8.54</td>\n",
       "      <td>1.060870</td>\n",
       "      <td>0.49</td>\n",
       "    </tr>\n",
       "  </tbody>\n",
       "</table>\n",
       "</div>"
      ],
      "text/plain": [
       "                     Студент  GPA_x  GPA_y     ratio  diff\n",
       "9   Ермаков Павел Алексеевич   8.95   8.46  0.945251 -0.49\n",
       "49   Ширяева Дарья Сергеевна   8.05   8.54  1.060870  0.49"
      ]
     },
     "execution_count": 28,
     "metadata": {},
     "output_type": "execute_result"
    }
   ],
   "source": [
    "dfme[dfme[\"Студент\"].str.contains('Шир|Ерм')][req_cols]"
   ]
  },
  {
   "cell_type": "code",
   "execution_count": null,
   "metadata": {},
   "outputs": [],
   "source": []
  },
  {
   "cell_type": "code",
   "execution_count": 29,
   "metadata": {},
   "outputs": [],
   "source": [
    "df_gpa = dfme.sort_values('ratio', ascending=False)[['Студент', 'GPA_x', 'GPA_y']]"
   ]
  },
  {
   "cell_type": "code",
   "execution_count": 30,
   "metadata": {},
   "outputs": [],
   "source": [
    "dfpl = pd.wide_to_long(df_gpa, 'GPA', i='Студент', j='half', suffix='\\\\w+').reset_index()"
   ]
  },
  {
   "cell_type": "code",
   "execution_count": 31,
   "metadata": {},
   "outputs": [
    {
     "data": {
      "text/html": [
       "<div>\n",
       "<style scoped>\n",
       "    .dataframe tbody tr th:only-of-type {\n",
       "        vertical-align: middle;\n",
       "    }\n",
       "\n",
       "    .dataframe tbody tr th {\n",
       "        vertical-align: top;\n",
       "    }\n",
       "\n",
       "    .dataframe thead th {\n",
       "        text-align: right;\n",
       "    }\n",
       "</style>\n",
       "<table border=\"1\" class=\"dataframe\">\n",
       "  <thead>\n",
       "    <tr style=\"text-align: right;\">\n",
       "      <th></th>\n",
       "      <th>Студент</th>\n",
       "      <th>half</th>\n",
       "      <th>GPA</th>\n",
       "    </tr>\n",
       "  </thead>\n",
       "  <tbody>\n",
       "    <tr>\n",
       "      <th>0</th>\n",
       "      <td>Гутовский Илья Игоревич</td>\n",
       "      <td>_x</td>\n",
       "      <td>5.25</td>\n",
       "    </tr>\n",
       "    <tr>\n",
       "      <th>1</th>\n",
       "      <td>Белоусова Алена Игоревна</td>\n",
       "      <td>_x</td>\n",
       "      <td>5.20</td>\n",
       "    </tr>\n",
       "    <tr>\n",
       "      <th>2</th>\n",
       "      <td>Грунина Елена Андреевна</td>\n",
       "      <td>_x</td>\n",
       "      <td>5.40</td>\n",
       "    </tr>\n",
       "    <tr>\n",
       "      <th>3</th>\n",
       "      <td>Иванова Алина Павловна</td>\n",
       "      <td>_x</td>\n",
       "      <td>6.00</td>\n",
       "    </tr>\n",
       "    <tr>\n",
       "      <th>4</th>\n",
       "      <td>Бахтыгулова Камила</td>\n",
       "      <td>_x</td>\n",
       "      <td>6.15</td>\n",
       "    </tr>\n",
       "  </tbody>\n",
       "</table>\n",
       "</div>"
      ],
      "text/plain": [
       "                    Студент half   GPA\n",
       "0   Гутовский Илья Игоревич   _x  5.25\n",
       "1  Белоусова Алена Игоревна   _x  5.20\n",
       "2   Грунина Елена Андреевна   _x  5.40\n",
       "3    Иванова Алина Павловна   _x  6.00\n",
       "4        Бахтыгулова Камила   _x  6.15"
      ]
     },
     "execution_count": 31,
     "metadata": {},
     "output_type": "execute_result"
    }
   ],
   "source": [
    "dfpl.head()"
   ]
  },
  {
   "cell_type": "code",
   "execution_count": 32,
   "metadata": {},
   "outputs": [
    {
     "data": {
      "text/plain": [
       "<AxesSubplot:>"
      ]
     },
     "execution_count": 32,
     "metadata": {},
     "output_type": "execute_result"
    },
    {
     "data": {
      "image/png": "[encoded data removed]",
      "text/plain": [
       "<Figure size 432x288 with 1 Axes>"
      ]
     },
     "metadata": {
      "needs_background": "light"
     },
     "output_type": "display_data"
    }
   ],
   "source": [
    "dfpl.plot()"
   ]
  },
  {
   "cell_type": "code",
   "execution_count": null,
   "metadata": {},
   "outputs": [],
   "source": []
  },
  {
   "cell_type": "code",
   "execution_count": 34,
   "metadata": {},
   "outputs": [],
   "source": [
    "# sns.lineplot(dfpl, x = 'half', y='GPA')"
   ]
  },
  {
   "cell_type": "code",
   "execution_count": null,
   "metadata": {},
   "outputs": [],
   "source": []
  }
 ],
 "metadata": {
  "kernelspec": {
   "display_name": "Python 3",
   "language": "python",
   "name": "python3"
  },
  "language_info": {
   "codemirror_mode": {
    "name": "ipython",
    "version": 3
   },
   "file_extension": ".py",
   "mimetype": "text/x-python",
   "name": "python",
   "nbconvert_exporter": "python",
   "pygments_lexer": "ipython3",
   "version": "3.8.5"
  }
 },
 "nbformat": 4,
 "nbformat_minor": 4
}
